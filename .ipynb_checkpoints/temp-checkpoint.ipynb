{
 "cells": [
  {
   "cell_type": "code",
   "execution_count": null,
   "metadata": {
    "collapsed": true
   },
   "outputs": [],
   "source": [
    "import pandas\n",
    "import numpy\n",
    "from matplotlib import pyplot as plt\n",
    "import seaborn\n",
    "%matplotlib notebook\n",
    "import datetime"
   ]
  },
  {
   "cell_type": "code",
   "execution_count": null,
   "metadata": {
    "collapsed": true
   },
   "outputs": [],
   "source": [
    "def read_csv(name):\n",
    "    result = pandas.read_csv(name,index_col=[0],header=[0,1])\n",
    "    result.columns.names=['Instrument','Field']\n",
    "    result.index.name='Timestamp'\n",
    "    result.index = pandas.to_datetime(result.index,errors='coerce',dayfirst=True)\n",
    "    result.sort_index(axis='columns',inplace=True)\n",
    "    return result\n",
    "\n",
    "hl_price  = read_csv('hl_price_17_07_2017.csv')\n",
    "index_price = read_csv('index_price_17_07_2017.csv')"
   ]
  },
  {
   "cell_type": "code",
   "execution_count": null,
   "metadata": {
    "collapsed": true
   },
   "outputs": [],
   "source": [
    "date_range = pandas.date_range('2015-07-01','2017-07-14')\n",
    "date_range = date_range[date_range.weekday < 5] # computing business days"
   ]
  },
  {
   "cell_type": "code",
   "execution_count": null,
   "metadata": {
    "collapsed": true
   },
   "outputs": [],
   "source": [
    "temp = index_price.loc[:,['FTSE 100','FTSE 350 Financial']]\n",
    "temp.columns=temp.columns.droplevel(1)\n",
    "temp2 = hl_price.loc[:,('Hargreaves Lansdown','Adj Close')]\n",
    "temp2 = temp2.to_frame()\n",
    "temp2.columns=temp2.columns.droplevel(1)\n",
    "temp = temp.reindex(index=date_range)\n",
    "temp2 = temp2.reindex(index=date_range)\n",
    "dataframe = temp.join(temp2)\n",
    "dataframe.fillna(method='ffill',inplace=True)"
   ]
  }
 ],
 "metadata": {
  "kernelspec": {
   "display_name": "Python 3",
   "language": "python",
   "name": "python3"
  },
  "language_info": {
   "codemirror_mode": {
    "name": "ipython",
    "version": 3
   },
   "file_extension": ".py",
   "mimetype": "text/x-python",
   "name": "python",
   "nbconvert_exporter": "python",
   "pygments_lexer": "ipython3",
   "version": "3.6.1"
  }
 },
 "nbformat": 4,
 "nbformat_minor": 2
}
